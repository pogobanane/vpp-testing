{
 "cells": [
  {
   "cell_type": "code",
   "execution_count": 1,
   "metadata": {
    "scrolled": true
   },
   "outputs": [],
   "source": [
    "from __future__ import print_function\n",
    "\n",
    "%matplotlib inline\n",
    "\n",
    "import os\n",
    "import codecs\n",
    "import numpy as np\n",
    "import pandas as pd\n",
    "import seaborn as sns\n",
    "from tqdm import tqdm\n",
    "from tabulate import tabulate\n",
    "import matplotlib.pyplot as plt\n",
    "from matplotlib2tikz import get_tikz_code"
   ]
  },
  {
   "cell_type": "code",
   "execution_count": 2,
   "metadata": {},
   "outputs": [],
   "source": [
    "sns.set(style=\"ticks\")"
   ]
  },
  {
   "cell_type": "code",
   "execution_count": null,
   "metadata": {},
   "outputs": [],
   "source": [
    "hmac = ''\n",
    "DIRS = ['/Users/gallenmu/mkdir/2018-07-27_20-14-52/rapla']\n",
    "\n",
    "#hmac = 'hmac_'\n",
    "#DIRS = ['/Users/gallenmu/mkdir/2018-07-29_18-13-41/rapla']\n",
    "\n",
    "flatency = []\n",
    "fthroughput = []\n",
    "\n",
    "\n",
    "for d in DIRS:\n",
    "    files = os.listdir(d)\n",
    "    flatency_ = filter(lambda x: x.startswith('latency'), files)\n",
    "    flatency.extend(map(lambda x: os.path.join(d, x), flatency_))\n",
    "    fthroughput_ = filter(lambda x: x.startswith('throughput'), files)\n",
    "    fthroughput.extend(map(lambda x: os.path.join(d, x), fthroughput_))"
   ]
  },
  {
   "cell_type": "code",
   "execution_count": 3,
   "metadata": {},
   "outputs": [],
   "source": [
    "hmac = ''\n",
    "flatency = ['~/dev/ba/ba-okelmann/statistics/aaaa.csv']\n",
    "fthroughput = []"
   ]
  },
  {
   "cell_type": "code",
   "execution_count": 4,
   "metadata": {},
   "outputs": [],
   "source": [
    "tikz_header = r\"\"\"\n",
    "\\documentclass[beamer,multi=true,preview,tikz]{standalone}\n",
    "\n",
    "\\usepackage[utf8]{inputenc}\n",
    "\\usepackage{tumcolor}\n",
    "\\usepackage{tikz}\n",
    "%\\usepackage{times}\n",
    "\\usepackage{pgfplots}\n",
    "\\pgfplotsset{compat=1.13}\n",
    "\n",
    "\\begin{document}%\n",
    "\"\"\"\n",
    "\n",
    "tikz_footer = r\"\"\"\n",
    "\\end{document}\n",
    "\"\"\""
   ]
  },
  {
   "cell_type": "markdown",
   "metadata": {},
   "source": [
    "## Throughput"
   ]
  },
  {
   "cell_type": "code",
   "execution_count": 9,
   "metadata": {},
   "outputs": [
    {
     "name": "stderr",
     "output_type": "stream",
     "text": [
      "Parsing: 0it [00:00, ?it/s]\n"
     ]
    },
    {
     "ename": "AttributeError",
     "evalue": "'list' object has no attribute 'reset_index'",
     "output_type": "error",
     "traceback": [
      "\u001b[0;31m---------------------------------------------------------------------------\u001b[0m",
      "\u001b[0;31mAttributeError\u001b[0m                            Traceback (most recent call last)",
      "\u001b[0;32m<ipython-input-9-ab4009708c0c>\u001b[0m in \u001b[0;36m<module>\u001b[0;34m\u001b[0m\n\u001b[1;32m     17\u001b[0m \u001b[0;34m\u001b[0m\u001b[0m\n\u001b[1;32m     18\u001b[0m \u001b[0;31m#dfthr = pd.concat(dfthr)\u001b[0m\u001b[0;34m\u001b[0m\u001b[0;34m\u001b[0m\u001b[0m\n\u001b[0;32m---> 19\u001b[0;31m \u001b[0mdfthr\u001b[0m\u001b[0;34m.\u001b[0m\u001b[0mreset_index\u001b[0m\u001b[0;34m(\u001b[0m\u001b[0mdrop\u001b[0m\u001b[0;34m=\u001b[0m\u001b[0;32mTrue\u001b[0m\u001b[0;34m,\u001b[0m \u001b[0minplace\u001b[0m\u001b[0;34m=\u001b[0m\u001b[0;32mTrue\u001b[0m\u001b[0;34m)\u001b[0m\u001b[0;34m\u001b[0m\u001b[0m\n\u001b[0m",
      "\u001b[0;31mAttributeError\u001b[0m: 'list' object has no attribute 'reset_index'"
     ]
    }
   ],
   "source": [
    "dfthr = []\n",
    "for fname in tqdm(fthroughput, ncols=0, desc='Parsing'):\n",
    "    s = fname.split('.')\n",
    "    t = s[0].split('/')\n",
    "    u = t[len(t)-1].split('-')\n",
    "    for e in u:\n",
    "        if 'rate' in e:\n",
    "            rate = int(e.replace('rate', ''))\n",
    "        elif 'pktsz' in e:\n",
    "            psize = int(e.replace('pktsz', ''))\n",
    "                \n",
    "    df = pd.read_csv(fname)       \n",
    "    df['psize'] = psize\n",
    "    df['rate'] = rate\n",
    "    \n",
    "    dfthr.append(df)\n",
    "    \n",
    "#dfthr = pd.concat(dfthr)\n",
    "dfthr.reset_index(drop=True, inplace=True)"
   ]
  },
  {
   "cell_type": "code",
   "execution_count": 6,
   "metadata": {},
   "outputs": [
    {
     "ename": "TypeError",
     "evalue": "list indices must be integers or slices, not str",
     "output_type": "error",
     "traceback": [
      "\u001b[0;31m---------------------------------------------------------------------------\u001b[0m",
      "\u001b[0;31mTypeError\u001b[0m                                 Traceback (most recent call last)",
      "\u001b[0;32m<ipython-input-6-8775566e2eb3>\u001b[0m in \u001b[0;36m<module>\u001b[0;34m\u001b[0m\n\u001b[0;32m----> 1\u001b[0;31m \u001b[0mdfthr\u001b[0m\u001b[0;34m[\u001b[0m\u001b[0;34m'PacketRate'\u001b[0m\u001b[0;34m]\u001b[0m \u001b[0;34m=\u001b[0m \u001b[0mdfthr\u001b[0m\u001b[0;34m[\u001b[0m\u001b[0;34m'PacketRate'\u001b[0m\u001b[0;34m]\u001b[0m\u001b[0;34m.\u001b[0m\u001b[0mastype\u001b[0m\u001b[0;34m(\u001b[0m\u001b[0mfloat\u001b[0m\u001b[0;34m)\u001b[0m\u001b[0;34m\u001b[0m\u001b[0m\n\u001b[0m\u001b[1;32m      2\u001b[0m \u001b[0mdfthr\u001b[0m\u001b[0;34m.\u001b[0m\u001b[0mhead\u001b[0m\u001b[0;34m(\u001b[0m\u001b[0;34m)\u001b[0m\u001b[0;34m\u001b[0m\u001b[0m\n",
      "\u001b[0;31mTypeError\u001b[0m: list indices must be integers or slices, not str"
     ]
    }
   ],
   "source": [
    "dfthr['PacketRate'] = dfthr['PacketRate'].astype(float)\n",
    "dfthr.head()"
   ]
  },
  {
   "cell_type": "code",
   "execution_count": 7,
   "metadata": {},
   "outputs": [],
   "source": [
    "def max_packet_rate_mpps(psize):\n",
    "    return (10000000000 / ((psize +24) * 8)) / 1000000 "
   ]
  },
  {
   "cell_type": "code",
   "execution_count": 8,
   "metadata": {},
   "outputs": [
    {
     "ename": "AttributeError",
     "evalue": "'list' object has no attribute 'groupby'",
     "output_type": "error",
     "traceback": [
      "\u001b[0;31m---------------------------------------------------------------------------\u001b[0m",
      "\u001b[0;31mAttributeError\u001b[0m                            Traceback (most recent call last)",
      "\u001b[0;32m<ipython-input-8-3cdbf308a645>\u001b[0m in \u001b[0;36m<module>\u001b[0;34m\u001b[0m\n\u001b[0;32m----> 1\u001b[0;31m \u001b[0mdfthr_\u001b[0m \u001b[0;34m=\u001b[0m \u001b[0mdfthr\u001b[0m\u001b[0;34m.\u001b[0m\u001b[0mgroupby\u001b[0m\u001b[0;34m(\u001b[0m\u001b[0;34m[\u001b[0m\u001b[0;34m'psize'\u001b[0m\u001b[0;34m,\u001b[0m \u001b[0;34m'rate'\u001b[0m\u001b[0;34m,\u001b[0m \u001b[0;34m'Direction'\u001b[0m\u001b[0;34m]\u001b[0m\u001b[0;34m)\u001b[0m\u001b[0;34m[\u001b[0m\u001b[0;34m'PacketRate'\u001b[0m\u001b[0;34m]\u001b[0m\u001b[0;34m.\u001b[0m\u001b[0mmedian\u001b[0m\u001b[0;34m(\u001b[0m\u001b[0;34m)\u001b[0m\u001b[0;34m.\u001b[0m\u001b[0mreset_index\u001b[0m\u001b[0;34m(\u001b[0m\u001b[0;34m)\u001b[0m\u001b[0;34m\u001b[0m\u001b[0m\n\u001b[0m\u001b[1;32m      2\u001b[0m \u001b[0mdfthr_\u001b[0m \u001b[0;34m=\u001b[0m \u001b[0mdfthr\u001b[0m\u001b[0;34m.\u001b[0m\u001b[0mgroupby\u001b[0m\u001b[0;34m(\u001b[0m\u001b[0;34m[\u001b[0m\u001b[0;34m'psize'\u001b[0m\u001b[0;34m,\u001b[0m \u001b[0;34m'rate'\u001b[0m\u001b[0;34m,\u001b[0m \u001b[0;34m'Direction'\u001b[0m\u001b[0;34m]\u001b[0m\u001b[0;34m)\u001b[0m\u001b[0;34m[\u001b[0m\u001b[0;34m'PacketRate'\u001b[0m\u001b[0;34m]\u001b[0m\u001b[0;34m.\u001b[0m\u001b[0mmax\u001b[0m\u001b[0;34m(\u001b[0m\u001b[0;34m)\u001b[0m\u001b[0;34m.\u001b[0m\u001b[0mreset_index\u001b[0m\u001b[0;34m(\u001b[0m\u001b[0;34m)\u001b[0m\u001b[0;34m\u001b[0m\u001b[0m\n\u001b[1;32m      3\u001b[0m \u001b[0mdfthr_\u001b[0m \u001b[0;34m=\u001b[0m \u001b[0mpd\u001b[0m\u001b[0;34m.\u001b[0m\u001b[0mpivot_table\u001b[0m\u001b[0;34m(\u001b[0m\u001b[0mdfthr_\u001b[0m\u001b[0;34m,\u001b[0m \u001b[0mindex\u001b[0m\u001b[0;34m=\u001b[0m\u001b[0;34m[\u001b[0m\u001b[0;34m'psize'\u001b[0m\u001b[0;34m,\u001b[0m \u001b[0;34m'rate'\u001b[0m\u001b[0;34m]\u001b[0m\u001b[0;34m,\u001b[0m \u001b[0mcolumns\u001b[0m\u001b[0;34m=\u001b[0m\u001b[0;34m\"Direction\"\u001b[0m\u001b[0;34m,\u001b[0m \u001b[0mvalues\u001b[0m\u001b[0;34m=\u001b[0m\u001b[0;34m\"PacketRate\"\u001b[0m\u001b[0;34m)\u001b[0m\u001b[0;34m.\u001b[0m\u001b[0mreset_index\u001b[0m\u001b[0;34m(\u001b[0m\u001b[0;34m)\u001b[0m\u001b[0;34m\u001b[0m\u001b[0m\n\u001b[1;32m      4\u001b[0m \u001b[0;34m\u001b[0m\u001b[0m\n\u001b[1;32m      5\u001b[0m \u001b[0mdfthr_\u001b[0m\u001b[0;34m.\u001b[0m\u001b[0mto_csv\u001b[0m\u001b[0;34m(\u001b[0m\u001b[0;34m\"~/dev/ba/ba-okelmann/statistics/throughput_mpps.csv\"\u001b[0m\u001b[0;34m,\u001b[0m \u001b[0mindex\u001b[0m\u001b[0;34m=\u001b[0m\u001b[0;32mFalse\u001b[0m\u001b[0;34m)\u001b[0m\u001b[0;34m\u001b[0m\u001b[0m\n",
      "\u001b[0;31mAttributeError\u001b[0m: 'list' object has no attribute 'groupby'"
     ]
    }
   ],
   "source": [
    "dfthr_ = dfthr.groupby(['psize', 'rate', 'Direction'])['PacketRate'].median().reset_index()\n",
    "dfthr_ = dfthr.groupby(['psize', 'rate', 'Direction'])['PacketRate'].max().reset_index()\n",
    "dfthr_ = pd.pivot_table(dfthr_, index=['psize', 'rate'], columns=\"Direction\", values=\"PacketRate\").reset_index()\n",
    "\n",
    "dfthr_.to_csv(\"~/dev/ba/ba-okelmann/statistics/throughput_mpps.csv\", index=False)\n"
   ]
  },
  {
   "cell_type": "code",
   "execution_count": null,
   "metadata": {},
   "outputs": [],
   "source": [
    "dfg = dfthr_.groupby(['psize'])[\"RX\"].max().reset_index()\n",
    "print(dfg)"
   ]
  },
  {
   "cell_type": "code",
   "execution_count": null,
   "metadata": {},
   "outputs": [],
   "source": [
    "fig = plt.figure()\n",
    "\n",
    "xes = []\n",
    "ys = []\n",
    "\n",
    "dfg = dfthr_.groupby(['psize'])[\"RX\"].max().reset_index()\n",
    "print(dfg)\n",
    "for index, row in dfg.iterrows():\n",
    "    psize = row['psize']\n",
    "    rx = row[\"RX\"]\n",
    "    maxr = max_packet_rate_mpps(psize)\n",
    "    \n",
    "    xes.append(psize)\n",
    "    ys.append(rx/maxr)\n",
    "\n",
    "fig = plt.figure()\n",
    "\n",
    "plt.legend(loc='upper center', ncol=4, bbox_to_anchor=(0.5, 1.21))\n",
    "\n",
    "    \n",
    "plt.ylabel(\"Relative transfer rate\")\n",
    "plt.xlabel(\"Packet size (Byte)\")\n",
    "fig.tight_layout()\n",
    "plt.grid(True)\n",
    "\n",
    "plt.plot(xes, ys, markersize=10, marker='o', label=psize)\n",
    "plt.title('Relative transfer rates for different packets sizes')\n",
    "axes = plt.gca()\n",
    "axes.set_ylim(ymin=0)\n",
    "axes.set_ylim(ymax=1.1)\n",
    "\n",
    "outf = '~/dev/ba/ba-okelmann/statistics/'+hmac+'relative_throughput__all_sizes.tex'.format(psize)\n",
    "with codecs.open(outf, \"w\", encoding=\"utf8\") as f:\n",
    "    f.write(tikz_header)\n",
    "    f.write(get_tikz_code(outf, show_info=False, figurewidth=\"12cm\", figureheight=\"7cm\"))\n",
    "    f.write(tikz_footer)\n",
    "\n",
    "\n",
    "plt.show()\n",
    "    \n",
    "print(ys)"
   ]
  },
  {
   "cell_type": "code",
   "execution_count": null,
   "metadata": {},
   "outputs": [],
   "source": [
    "fig = plt.figure()\n",
    "for psize, dfg in dfthr_.groupby([\"psize\"]):\n",
    "    #print(dfg[\"TX\"].tolist())\n",
    "    \n",
    "    plt.plot(dfg[\"TX\"].tolist(), dfg[\"RX\"].tolist(), markersize=10, marker='o', label=psize)\n",
    "    plt.legend(loc='upper center', ncol=4, bbox_to_anchor=(0.5, 1.21))\n",
    "\n",
    "    \n",
    "    plt.xlabel(\"Transmitted Framerate (Mpps)\")\n",
    "    plt.ylabel(\"Received Framerate (Mpps)\")\n",
    "    fig.tight_layout()\n",
    "    plt.grid(True)\n",
    "    \n",
    "    axes = plt.gca()\n",
    "    axes.set_ylim(ymin=0)\n",
    "    #axes.set_ylim(ymax=16)\n",
    "    \n",
    "    outf = '~/dev/ba/ba-okelmann/statistics/'+hmac+'throughput__{}.tex'.format(psize)\n",
    "    with codecs.open(outf, \"w\", encoding=\"utf8\") as f:\n",
    "        f.write(tikz_header)\n",
    "        f.write(get_tikz_code(outf, show_info=False, figurewidth=\"12cm\", figureheight=\"7cm\"))\n",
    "        f.write(tikz_footer)\n",
    "    \n",
    "    plt.title('Packet size: {}B'.format(psize))\n",
    "\n",
    "    plt.show()"
   ]
  },
  {
   "cell_type": "code",
   "execution_count": null,
   "metadata": {},
   "outputs": [],
   "source": []
  },
  {
   "cell_type": "markdown",
   "metadata": {},
   "source": [
    "## Latency"
   ]
  },
  {
   "cell_type": "code",
   "execution_count": 13,
   "metadata": {},
   "outputs": [
    {
     "name": "stderr",
     "output_type": "stream",
     "text": [
      "100% 1/1 [00:00<00:00, 94.39it/s]\n"
     ]
    }
   ],
   "source": [
    "dflat = []\n",
    "for fname in tqdm(flatency, ncols=0):\n",
    "   \n",
    "    s = fname.split('.')\n",
    "    t = s[0].split('/')\n",
    "    u = t[len(t)-1].split('-')\n",
    "    for e in u:\n",
    "        if 'rate' in e:\n",
    "            rate = int(e.replace('rate', ''))\n",
    "        elif 'pktsz' in e:\n",
    "            psize = int(e.replace('pktsz', ''))\n",
    "                \n",
    "    df = pd.read_csv(fname, names=[\"latency\", \"weight\"])\n",
    "    #df['rate'] = rate\n",
    "    #df['psize'] = psize\n",
    "      \n",
    "    dflat.append(df)\n",
    "    \n",
    "dflat = pd.concat(dflat)\n",
    "dflat.reset_index(drop=True, inplace=True)"
   ]
  },
  {
   "cell_type": "code",
   "execution_count": 14,
   "metadata": {},
   "outputs": [
    {
     "data": {
      "text/html": [
       "<div>\n",
       "<style scoped>\n",
       "    .dataframe tbody tr th:only-of-type {\n",
       "        vertical-align: middle;\n",
       "    }\n",
       "\n",
       "    .dataframe tbody tr th {\n",
       "        vertical-align: top;\n",
       "    }\n",
       "\n",
       "    .dataframe thead th {\n",
       "        text-align: right;\n",
       "    }\n",
       "</style>\n",
       "<table border=\"1\" class=\"dataframe\">\n",
       "  <thead>\n",
       "    <tr style=\"text-align: right;\">\n",
       "      <th></th>\n",
       "      <th>latency</th>\n",
       "      <th>weight</th>\n",
       "    </tr>\n",
       "  </thead>\n",
       "  <tbody>\n",
       "    <tr>\n",
       "      <th>0</th>\n",
       "      <td>2253120</td>\n",
       "      <td>1</td>\n",
       "    </tr>\n",
       "    <tr>\n",
       "      <th>1</th>\n",
       "      <td>2253696</td>\n",
       "      <td>1</td>\n",
       "    </tr>\n",
       "    <tr>\n",
       "      <th>2</th>\n",
       "      <td>2254640</td>\n",
       "      <td>1</td>\n",
       "    </tr>\n",
       "    <tr>\n",
       "      <th>3</th>\n",
       "      <td>2254696</td>\n",
       "      <td>1</td>\n",
       "    </tr>\n",
       "    <tr>\n",
       "      <th>4</th>\n",
       "      <td>2254720</td>\n",
       "      <td>1</td>\n",
       "    </tr>\n",
       "  </tbody>\n",
       "</table>\n",
       "</div>"
      ],
      "text/plain": [
       "   latency  weight\n",
       "0  2253120       1\n",
       "1  2253696       1\n",
       "2  2254640       1\n",
       "3  2254696       1\n",
       "4  2254720       1"
      ]
     },
     "execution_count": 14,
     "metadata": {},
     "output_type": "execute_result"
    }
   ],
   "source": [
    "dflat.head()"
   ]
  },
  {
   "cell_type": "code",
   "execution_count": 42,
   "metadata": {
    "scrolled": false
   },
   "outputs": [
    {
     "name": "stdout",
     "output_type": "stream",
     "text": [
      "Horizontal alignment will be ignored as no 'x tick label text width' has been passed in the 'extra' parameter\n",
      "Horizontal alignment will be ignored as no 'y tick label text width' has been passed in the 'extra' parameter\n"
     ]
    },
    {
     "data": {
      "image/png": "[encoded data removed]",
      "text/plain": [
       "<Figure size 432x288 with 1 Axes>"
      ]
     },
     "metadata": {},
     "output_type": "display_data"
    }
   ],
   "source": [
    "#for (psize, rate), dfg in dflat.groupby([\"psize\", \"rate\"]):\n",
    "    \n",
    "    #print(rate)\n",
    "    #print(psize)\n",
    "    #print(dfg)\n",
    "    \n",
    "    #latencies = dfg['latency'].tolist()\n",
    "    #weights = dfg['weight'].tolist()\n",
    "    latencies = dflat['latency'].tolist()\n",
    "    weights = dflat['weight'].tolist()\n",
    "\n",
    "    rate = -1\n",
    "    psize = -1\n",
    "    \n",
    "    fig = plt.figure()\n",
    "\n",
    "    plt.hist(latencies, weights=weights, bins=400)\n",
    "    plt.title('Rate {} Mbit/s - Packet size: {} B'.format(rate, psize))\n",
    "    #plt.legend(loc=0)\n",
    "    plt.ylabel(\"Number of events\")\n",
    "    plt.xlabel(\"Processing latency (ns)\")\n",
    "    fig.tight_layout()\n",
    "    plt.grid(True)\n",
    "    \n",
    "    outf = '/home/pogobanane/dev/ba/ba-okelmann/statistics/'+hmac+'aaaaaa.tex'\n",
    "    with codecs.open(outf, \"w\", encoding=\"utf8\") as f:\n",
    "        f.write(tikz_header)\n",
    "        f.write(get_tikz_code(outf, show_info=False, figurewidth=\"48cm\", figureheight=\"7cm\"))\n",
    "        f.write(tikz_footer)\n",
    "    \n",
    "    plt.show()"
   ]
  },
  {
   "cell_type": "code",
   "execution_count": null,
   "metadata": {},
   "outputs": [],
   "source": []
  }
 ],
 "metadata": {
  "kernelspec": {
   "display_name": "Python 3",
   "language": "python",
   "name": "python3"
  },
  "language_info": {
   "codemirror_mode": {
    "name": "ipython",
    "version": 3
   },
   "file_extension": ".py",
   "mimetype": "text/x-python",
   "name": "python",
   "nbconvert_exporter": "python",
   "pygments_lexer": "ipython3",
   "version": "3.6.5"
  }
 },
 "nbformat": 4,
 "nbformat_minor": 2
}
