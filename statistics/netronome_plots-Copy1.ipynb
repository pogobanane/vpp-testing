{
 "cells": [
  {
   "cell_type": "code",
   "execution_count": null,
   "metadata": {},
   "outputs": [],
   "source": [
    "%matplotlib inline\n",
    "\n",
    "from __future__ import print_function\n",
    "\n",
    "import os\n",
    "import codecs\n",
    "import numpy as np\n",
    "import pandas as pd\n",
    "import seaborn as sns\n",
    "from tqdm import tqdm\n",
    "from tabulate import tabulate\n",
    "import matplotlib.pyplot as plt\n",
    "from matplotlib2tikz import get_tikz_code"
   ]
  },
  {
   "cell_type": "code",
   "execution_count": null,
   "metadata": {},
   "outputs": [],
   "source": [
    "sns.set(style=\"ticks\")"
   ]
  },
  {
   "cell_type": "code",
   "execution_count": null,
   "metadata": {},
   "outputs": [],
   "source": [
    "hmac = ''\n",
    "DIRS = ['/Users/gallenmu/mkdir/2018-07-27_20-14-52/rapla']\n",
    "\n",
    "#hmac = 'hmac_'\n",
    "#DIRS = ['/Users/gallenmu/mkdir/2018-07-29_18-13-41/rapla']\n",
    "\n",
    "flatency = []\n",
    "fthroughput = []\n",
    "\n",
    "\n",
    "for d in DIRS:\n",
    "    files = os.listdir(d)\n",
    "    flatency_ = filter(lambda x: x.startswith('latency'), files)\n",
    "    flatency.extend(map(lambda x: os.path.join(d, x), flatency_))\n",
    "    fthroughput_ = filter(lambda x: x.startswith('throughput'), files)\n",
    "    fthroughput.extend(map(lambda x: os.path.join(d, x), fthroughput_))"
   ]
  },
  {
   "cell_type": "code",
   "execution_count": null,
   "metadata": {},
   "outputs": [],
   "source": [
    "tikz_header = r\"\"\"\n",
    "\\documentclass[beamer,multi=true,preview,tikz]{standalone}\n",
    "\n",
    "\\usepackage[utf8]{inputenc}\n",
    "\\usepackage{tumcolor}\n",
    "\\usepackage{tikz}\n",
    "%\\usepackage{times}\n",
    "\\usepackage{pgfplots}\n",
    "\\pgfplotsset{compat=1.13}\n",
    "\n",
    "\\begin{document}%\n",
    "\"\"\"\n",
    "\n",
    "tikz_footer = r\"\"\"\n",
    "\\end{document}\n",
    "\"\"\""
   ]
  },
  {
   "cell_type": "markdown",
   "metadata": {},
   "source": [
    "## Throughput"
   ]
  },
  {
   "cell_type": "code",
   "execution_count": null,
   "metadata": {},
   "outputs": [],
   "source": [
    "dfthr = []\n",
    "for fname in tqdm(fthroughput, ncols=0, desc='Parsing'):\n",
    "    s = fname.split('.')\n",
    "    t = s[0].split('/')\n",
    "    u = t[len(t)-1].split('-')\n",
    "    for e in u:\n",
    "        if 'rate' in e:\n",
    "            rate = int(e.replace('rate', ''))\n",
    "        elif 'pktsz' in e:\n",
    "            psize = int(e.replace('pktsz', ''))\n",
    "                \n",
    "    df = pd.read_csv(fname)       \n",
    "    df['psize'] = psize\n",
    "    df['rate'] = rate\n",
    "    \n",
    "    dfthr.append(df)\n",
    "    \n",
    "dfthr = pd.concat(dfthr)\n",
    "dfthr.reset_index(drop=True, inplace=True)"
   ]
  },
  {
   "cell_type": "code",
   "execution_count": null,
   "metadata": {},
   "outputs": [],
   "source": [
    "dfthr['PacketRate'] = dfthr['PacketRate'].astype(float)\n",
    "dfthr.head()"
   ]
  },
  {
   "cell_type": "code",
   "execution_count": null,
   "metadata": {},
   "outputs": [],
   "source": [
    "def max_packet_rate_mpps(psize):\n",
    "    return (10000000000 / ((psize +24) * 8)) / 1000000 "
   ]
  },
  {
   "cell_type": "code",
   "execution_count": null,
   "metadata": {},
   "outputs": [],
   "source": [
    "dfthr_ = dfthr.groupby(['psize', 'rate', 'Direction'])['PacketRate'].median().reset_index()\n",
    "dfthr_ = dfthr.groupby(['psize', 'rate', 'Direction'])['PacketRate'].max().reset_index()\n",
    "dfthr_ = pd.pivot_table(dfthr_, index=['psize', 'rate'], columns=\"Direction\", values=\"PacketRate\").reset_index()\n",
    "\n",
    "dfthr_.to_csv(\"~/throughput_mpps.csv\", index=False)\n"
   ]
  },
  {
   "cell_type": "code",
   "execution_count": null,
   "metadata": {},
   "outputs": [],
   "source": [
    "dfg = dfthr_.groupby(['psize'])[\"RX\"].max().reset_index()\n",
    "print(dfg)"
   ]
  },
  {
   "cell_type": "code",
   "execution_count": null,
   "metadata": {},
   "outputs": [],
   "source": [
    "fig = plt.figure()\n",
    "\n",
    "xes = []\n",
    "ys = []\n",
    "\n",
    "dfg = dfthr_.groupby(['psize'])[\"RX\"].max().reset_index()\n",
    "print(dfg)\n",
    "for index, row in dfg.iterrows():\n",
    "    psize = row['psize']\n",
    "    rx = row[\"RX\"]\n",
    "    maxr = max_packet_rate_mpps(psize)\n",
    "    \n",
    "    xes.append(psize)\n",
    "    ys.append(rx/maxr)\n",
    "\n",
    "fig = plt.figure()\n",
    "\n",
    "plt.legend(loc='upper center', ncol=4, bbox_to_anchor=(0.5, 1.21))\n",
    "\n",
    "    \n",
    "plt.ylabel(\"Relative transfer rate\")\n",
    "plt.xlabel(\"Packet size (Byte)\")\n",
    "fig.tight_layout()\n",
    "plt.grid(True)\n",
    "\n",
    "plt.plot(xes, ys, markersize=10, marker='o', label=psize)\n",
    "plt.title('Relative transfer rates for different packets sizes')\n",
    "axes = plt.gca()\n",
    "axes.set_ylim(ymin=0)\n",
    "axes.set_ylim(ymax=1.1)\n",
    "\n",
    "outf = '/Users/gallenmu/mkdir/plots/'+hmac+'relative_throughput__all_sizes.tex'.format(psize)\n",
    "with codecs.open(outf, \"w\", encoding=\"utf8\") as f:\n",
    "    f.write(tikz_header)\n",
    "    f.write(get_tikz_code(outf, show_info=False, figurewidth=\"12cm\", figureheight=\"7cm\"))\n",
    "    f.write(tikz_footer)\n",
    "\n",
    "\n",
    "plt.show()\n",
    "    \n",
    "print(ys)"
   ]
  },
  {
   "cell_type": "code",
   "execution_count": null,
   "metadata": {},
   "outputs": [],
   "source": [
    "fig = plt.figure()\n",
    "for psize, dfg in dfthr_.groupby([\"psize\"]):\n",
    "    #print(dfg[\"TX\"].tolist())\n",
    "    \n",
    "    plt.plot(dfg[\"TX\"].tolist(), dfg[\"RX\"].tolist(), markersize=10, marker='o', label=psize)\n",
    "    plt.legend(loc='upper center', ncol=4, bbox_to_anchor=(0.5, 1.21))\n",
    "\n",
    "    \n",
    "    plt.xlabel(\"Transmitted Framerate (Mpps)\")\n",
    "    plt.ylabel(\"Received Framerate (Mpps)\")\n",
    "    fig.tight_layout()\n",
    "    plt.grid(True)\n",
    "    \n",
    "    axes = plt.gca()\n",
    "    axes.set_ylim(ymin=0)\n",
    "    #axes.set_ylim(ymax=16)\n",
    "    \n",
    "    outf = '/Users/gallenmu/mkdir/plots/'+hmac+'throughput__{}.tex'.format(psize)\n",
    "    with codecs.open(outf, \"w\", encoding=\"utf8\") as f:\n",
    "        f.write(tikz_header)\n",
    "        f.write(get_tikz_code(outf, show_info=False, figurewidth=\"12cm\", figureheight=\"7cm\"))\n",
    "        f.write(tikz_footer)\n",
    "    \n",
    "    plt.title('Packet size: {}B'.format(psize))\n",
    "\n",
    "    plt.show()"
   ]
  },
  {
   "cell_type": "code",
   "execution_count": null,
   "metadata": {},
   "outputs": [],
   "source": []
  },
  {
   "cell_type": "markdown",
   "metadata": {},
   "source": [
    "## Latency"
   ]
  },
  {
   "cell_type": "code",
   "execution_count": null,
   "metadata": {},
   "outputs": [],
   "source": [
    "dflat = []\n",
    "for fname in tqdm(flatency, ncols=0):\n",
    "   \n",
    "    s = fname.split('.')\n",
    "    t = s[0].split('/')\n",
    "    u = t[len(t)-1].split('-')\n",
    "    for e in u:\n",
    "        if 'rate' in e:\n",
    "            rate = int(e.replace('rate', ''))\n",
    "        elif 'pktsz' in e:\n",
    "            psize = int(e.replace('pktsz', ''))\n",
    "                \n",
    "    df = pd.read_csv(fname, names=[\"latency\", \"weight\"])\n",
    "    df['rate'] = rate\n",
    "    df['psize'] = psize\n",
    "      \n",
    "    dflat.append(df)\n",
    "    \n",
    "dflat = pd.concat(dflat)\n",
    "dflat.reset_index(drop=True, inplace=True)"
   ]
  },
  {
   "cell_type": "code",
   "execution_count": null,
   "metadata": {},
   "outputs": [],
   "source": [
    "dflat.head()"
   ]
  },
  {
   "cell_type": "code",
   "execution_count": null,
   "metadata": {},
   "outputs": [],
   "source": [
    "for (psize, rate), dfg in dflat.groupby([\"psize\", \"rate\"]):\n",
    "    \n",
    "    print(rate)\n",
    "    print(psize)\n",
    "    #print(dfg)\n",
    "    \n",
    "    latencies = dfg['latency'].tolist()\n",
    "    weights = dfg['weight'].tolist()\n",
    "\n",
    "    fig = plt.figure()\n",
    "\n",
    "    plt.hist(latencies, weights=weights, bins=100)\n",
    "    plt.title('Rate {} Mbit/s - Packet size: {} B'.format(rate, psize))\n",
    "    #plt.legend(loc=0)\n",
    "    plt.ylabel(\"Number of events\")\n",
    "    plt.xlabel(\"Processing latency (ns)\")\n",
    "    fig.tight_layout()\n",
    "    plt.grid(True)\n",
    "    \n",
    "    outf = '/Users/gallenmu/mkdir/plots/'+hmac+'latency_hist__rate{}_pksz{}.tex'.format(rate, psize)\n",
    "    with codecs.open(outf, \"w\", encoding=\"utf8\") as f:\n",
    "        f.write(tikz_header)\n",
    "        f.write(get_tikz_code(outf, show_info=False, figurewidth=\"12cm\", figureheight=\"7cm\"))\n",
    "        f.write(tikz_footer)\n",
    "    \n",
    "    plt.show()"
   ]
  },
  {
   "cell_type": "code",
   "execution_count": null,
   "metadata": {},
   "outputs": [],
   "source": []
  }
 ],
 "metadata": {
  "kernelspec": {
   "display_name": "Python 3",
   "language": "python",
   "name": "python3"
  },
  "language_info": {
   "codemirror_mode": {
    "name": "ipython",
    "version": 3
   },
   "file_extension": ".py",
   "mimetype": "text/x-python",
   "name": "python",
   "nbconvert_exporter": "python",
   "pygments_lexer": "ipython3",
   "version": "3.6.5"
  }
 },
 "nbformat": 4,
 "nbformat_minor": 2
}
