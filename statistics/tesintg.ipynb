{
 "cells": [
  {
   "cell_type": "code",
   "execution_count": 1,
   "metadata": {
    "scrolled": true
   },
   "outputs": [
    {
     "name": "stdout",
     "output_type": "stream",
     "text": [
      "penis\n"
     ]
    }
   ],
   "source": [
    "print(\"penis\")"
   ]
  },
  {
   "cell_type": "code",
   "execution_count": 3,
   "metadata": {},
   "outputs": [],
   "source": [
    "import numpy as np"
   ]
  },
  {
   "cell_type": "code",
   "execution_count": 4,
   "metadata": {},
   "outputs": [
    {
     "data": {
      "text/plain": [
       "3.5"
      ]
     },
     "execution_count": 4,
     "metadata": {},
     "output_type": "execute_result"
    }
   ],
   "source": [
    "np.mean([1,4,3,2,6,4,4,3,2,6])"
   ]
  },
  {
   "cell_type": "code",
   "execution_count": 16,
   "metadata": {},
   "outputs": [
    {
     "data": {
      "image/png": "[encoded data removed]",
      "text/plain": [
       "<Figure size 504x288 with 1 Axes>"
      ]
     },
     "metadata": {
      "needs_background": "light"
     },
     "output_type": "display_data"
    }
   ],
   "source": [
    "import matplotlib.pyplot as plt\n",
    "\n",
    "# example data\n",
    "x = np.array([0.5, 1.0, 1.5, 2.0, 2.5, 3.0, 3.5, 4.0, 4.5, 5.0])\n",
    "y = np.exp(-x)\n",
    "xerr = 0.1\n",
    "yerr = 0.2\n",
    "\n",
    "# lower & upper limits of the error\n",
    "lolims = np.array([0, 0, 1, 0, 1, 0, 0, 0, 1, 0], dtype=bool)\n",
    "uplims = np.array([0, 1, 0, 0, 0, 1, 0, 0, 0, 1], dtype=bool)\n",
    "ls = 'dotted'\n",
    "\n",
    "fig, ax = plt.subplots(figsize=(7, 4))\n",
    "\n",
    "# standard error bars\n",
    "# ax.errorbar(x, y, xerr=xerr, yerr=yerr, linestyle=ls)\n",
    "\n",
    "# including upper limits\n",
    "ax.errorbar(x, y + 0.5, xerr=xerr, yerr=yerr, #uplims=uplims,\n",
    "            linestyle=ls)\n",
    "\n",
    "# including lower limits\n",
    "#ax.errorbar(x, y + 1.0, xerr=xerr, yerr=yerr, lolims=lolims,\n",
    "#            linestyle=ls)\n",
    "\n",
    "# including upper and lower limits\n",
    "#ax.errorbar(x, y + 1.5, xerr=xerr, yerr=yerr,\n",
    "#            lolims=lolims, uplims=uplims,\n",
    "#            marker='o', markersize=8,\n",
    "#            linestyle=ls)\n",
    "\n",
    "# Plot a series with lower and upper limits in both x & y\n",
    "# constant x-error with varying y-error\n",
    "xerr = 0.2\n",
    "yerr = np.zeros_like(x) + 0.2\n",
    "yerr[[3, 6]] = 0.3\n",
    "\n",
    "# mock up some limits by modifying previous data\n",
    "xlolims = lolims\n",
    "xuplims = uplims\n",
    "lolims = np.zeros(x.shape)\n",
    "uplims = np.zeros(x.shape)\n",
    "lolims[[6]] = True  # only limited at this index\n",
    "uplims[[3]] = True  # only limited at this index\n",
    "\n",
    "# do the plotting\n",
    "#ax.errorbar(x, y + 2.1, xerr=xerr, yerr=yerr,\n",
    "#            xlolims=xlolims, xuplims=xuplims,\n",
    "#            uplims=uplims, lolims=lolims,\n",
    "#            marker='o', markersize=8,\n",
    "#            linestyle='dotted')\n",
    "\n",
    "# tidy up the figure\n",
    "ax.set_xlim((0, 5.5))\n",
    "ax.set_title('Errorbar upper and lower limits')\n",
    "plt.show()"
   ]
  },
  {
   "cell_type": "code",
   "execution_count": null,
   "metadata": {},
   "outputs": [],
   "source": []
  }
 ],
 "metadata": {
  "kernelspec": {
   "display_name": "Python 3",
   "language": "python",
   "name": "python3"
  },
  "language_info": {
   "codemirror_mode": {
    "name": "ipython",
    "version": 3
   },
   "file_extension": ".py",
   "mimetype": "text/x-python",
   "name": "python",
   "nbconvert_exporter": "python",
   "pygments_lexer": "ipython3",
   "version": "3.6.5"
  }
 },
 "nbformat": 4,
 "nbformat_minor": 2
}
